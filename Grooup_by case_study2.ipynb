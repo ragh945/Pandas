{
 "cells": [
  {
   "cell_type": "markdown",
   "id": "3f1d2c4d",
   "metadata": {},
   "source": [
    "# Prepare a dataset for students with 10 rows having columns student ID, Name, Gender, Marks, Address, pass/fail,DOB column etc."
   ]
  },
  {
   "cell_type": "code",
   "execution_count": 1,
   "id": "ce3debf3",
   "metadata": {},
   "outputs": [],
   "source": [
    "#Importing required libraries\n",
    "import pandas as pd"
   ]
  },
  {
   "cell_type": "code",
   "execution_count": 2,
   "id": "bb069ef6",
   "metadata": {},
   "outputs": [],
   "source": [
    "Students=[\"Patwari Raghu\",\"Polisetty Siri\",\"Thammisetti Charan\",\"Ravulapalli Kushal\",\"Sreeramdas Tejesvi\",\"Rasamalla Tharun\",\"Panyala Navy\",\"P Ram\",\"T Veen\",\"Pogu Umesh\"]\n",
    "Student_id=[100,101,102,103,104,105,106,107,108,109]\n",
    "Gender=[\"M\",\"F\",\"M\",\"M\",\"F\",\"M\",\"F\",\"M\",\"F\",\"M\"]\n",
    "Marks=[34,85,78,99,76,21,89,66,31,81]\n",
    "Address=[\"Hyderabad\",\"Cinncinati\",\"Karimnagar\",\"Dharmapuri\",\"Dallas\",\"Florida\",\"Albany\",\"Hyderabad\",\"Hyderabad\",\"Warangal\"]\n",
    "grades=[\"Fail\",\"Pass\",\"Pass\",\"Pass\",\"Pass\",\"Fail\",\"Pass\",\"Pass\",\"Fail\",\"Pass\"]\n",
    "DOB=[\"2000-08-16\",\"1999-11-11\",\"1999-11-10\",\"1999-09-05\",\"1999-08-18\",\"1999-09-01\",\"1999-06-20\",\"1998-04-12\",\"1999-06-24\",\"1999-02-01\"]"
   ]
  },
  {
   "cell_type": "code",
   "execution_count": 3,
   "id": "5e680d11",
   "metadata": {},
   "outputs": [],
   "source": [
    "df=pd.DataFrame({\"Sid\":Student_id,\"Name\":Students,\"Gender\":Gender,\"Marks\":Marks,\"Address\":Address,\"pass/fail\":grades,\"DOB\":DOB})"
   ]
  },
  {
   "cell_type": "code",
   "execution_count": 4,
   "id": "514b8a3e",
   "metadata": {},
   "outputs": [
    {
     "data": {
      "text/html": [
       "<div>\n",
       "<style scoped>\n",
       "    .dataframe tbody tr th:only-of-type {\n",
       "        vertical-align: middle;\n",
       "    }\n",
       "\n",
       "    .dataframe tbody tr th {\n",
       "        vertical-align: top;\n",
       "    }\n",
       "\n",
       "    .dataframe thead th {\n",
       "        text-align: right;\n",
       "    }\n",
       "</style>\n",
       "<table border=\"1\" class=\"dataframe\">\n",
       "  <thead>\n",
       "    <tr style=\"text-align: right;\">\n",
       "      <th></th>\n",
       "      <th>Sid</th>\n",
       "      <th>Name</th>\n",
       "      <th>Gender</th>\n",
       "      <th>Marks</th>\n",
       "      <th>Address</th>\n",
       "      <th>pass/fail</th>\n",
       "      <th>DOB</th>\n",
       "    </tr>\n",
       "  </thead>\n",
       "  <tbody>\n",
       "    <tr>\n",
       "      <th>0</th>\n",
       "      <td>100</td>\n",
       "      <td>Patwari Raghu</td>\n",
       "      <td>M</td>\n",
       "      <td>34</td>\n",
       "      <td>Hyderabad</td>\n",
       "      <td>Fail</td>\n",
       "      <td>2000-08-16</td>\n",
       "    </tr>\n",
       "    <tr>\n",
       "      <th>1</th>\n",
       "      <td>101</td>\n",
       "      <td>Polisetty Siri</td>\n",
       "      <td>F</td>\n",
       "      <td>85</td>\n",
       "      <td>Cinncinati</td>\n",
       "      <td>Pass</td>\n",
       "      <td>1999-11-11</td>\n",
       "    </tr>\n",
       "    <tr>\n",
       "      <th>2</th>\n",
       "      <td>102</td>\n",
       "      <td>Thammisetti Charan</td>\n",
       "      <td>M</td>\n",
       "      <td>78</td>\n",
       "      <td>Karimnagar</td>\n",
       "      <td>Pass</td>\n",
       "      <td>1999-11-10</td>\n",
       "    </tr>\n",
       "    <tr>\n",
       "      <th>3</th>\n",
       "      <td>103</td>\n",
       "      <td>Ravulapalli Kushal</td>\n",
       "      <td>M</td>\n",
       "      <td>99</td>\n",
       "      <td>Dharmapuri</td>\n",
       "      <td>Pass</td>\n",
       "      <td>1999-09-05</td>\n",
       "    </tr>\n",
       "    <tr>\n",
       "      <th>4</th>\n",
       "      <td>104</td>\n",
       "      <td>Sreeramdas Tejesvi</td>\n",
       "      <td>F</td>\n",
       "      <td>76</td>\n",
       "      <td>Dallas</td>\n",
       "      <td>Pass</td>\n",
       "      <td>1999-08-18</td>\n",
       "    </tr>\n",
       "    <tr>\n",
       "      <th>5</th>\n",
       "      <td>105</td>\n",
       "      <td>Rasamalla Tharun</td>\n",
       "      <td>M</td>\n",
       "      <td>21</td>\n",
       "      <td>Florida</td>\n",
       "      <td>Fail</td>\n",
       "      <td>1999-09-01</td>\n",
       "    </tr>\n",
       "    <tr>\n",
       "      <th>6</th>\n",
       "      <td>106</td>\n",
       "      <td>Panyala Navy</td>\n",
       "      <td>F</td>\n",
       "      <td>89</td>\n",
       "      <td>Albany</td>\n",
       "      <td>Pass</td>\n",
       "      <td>1999-06-20</td>\n",
       "    </tr>\n",
       "    <tr>\n",
       "      <th>7</th>\n",
       "      <td>107</td>\n",
       "      <td>P Ram</td>\n",
       "      <td>M</td>\n",
       "      <td>66</td>\n",
       "      <td>Hyderabad</td>\n",
       "      <td>Pass</td>\n",
       "      <td>1998-04-12</td>\n",
       "    </tr>\n",
       "    <tr>\n",
       "      <th>8</th>\n",
       "      <td>108</td>\n",
       "      <td>T Veen</td>\n",
       "      <td>F</td>\n",
       "      <td>31</td>\n",
       "      <td>Hyderabad</td>\n",
       "      <td>Fail</td>\n",
       "      <td>1999-06-24</td>\n",
       "    </tr>\n",
       "    <tr>\n",
       "      <th>9</th>\n",
       "      <td>109</td>\n",
       "      <td>Pogu Umesh</td>\n",
       "      <td>M</td>\n",
       "      <td>81</td>\n",
       "      <td>Warangal</td>\n",
       "      <td>Pass</td>\n",
       "      <td>1999-02-01</td>\n",
       "    </tr>\n",
       "  </tbody>\n",
       "</table>\n",
       "</div>"
      ],
      "text/plain": [
       "   Sid                Name Gender  Marks     Address pass/fail         DOB\n",
       "0  100       Patwari Raghu      M     34   Hyderabad      Fail  2000-08-16\n",
       "1  101      Polisetty Siri      F     85  Cinncinati      Pass  1999-11-11\n",
       "2  102  Thammisetti Charan      M     78  Karimnagar      Pass  1999-11-10\n",
       "3  103  Ravulapalli Kushal      M     99  Dharmapuri      Pass  1999-09-05\n",
       "4  104  Sreeramdas Tejesvi      F     76      Dallas      Pass  1999-08-18\n",
       "5  105    Rasamalla Tharun      M     21     Florida      Fail  1999-09-01\n",
       "6  106        Panyala Navy      F     89      Albany      Pass  1999-06-20\n",
       "7  107               P Ram      M     66   Hyderabad      Pass  1998-04-12\n",
       "8  108              T Veen      F     31   Hyderabad      Fail  1999-06-24\n",
       "9  109          Pogu Umesh      M     81    Warangal      Pass  1999-02-01"
      ]
     },
     "execution_count": 4,
     "metadata": {},
     "output_type": "execute_result"
    }
   ],
   "source": [
    "df1=df.copy()\n",
    "df1"
   ]
  },
  {
   "cell_type": "code",
   "execution_count": 5,
   "id": "39da2529",
   "metadata": {},
   "outputs": [
    {
     "name": "stdout",
     "output_type": "stream",
     "text": [
      "<class 'pandas.core.frame.DataFrame'>\n",
      "RangeIndex: 10 entries, 0 to 9\n",
      "Data columns (total 7 columns):\n",
      " #   Column     Non-Null Count  Dtype \n",
      "---  ------     --------------  ----- \n",
      " 0   Sid        10 non-null     int64 \n",
      " 1   Name       10 non-null     object\n",
      " 2   Gender     10 non-null     object\n",
      " 3   Marks      10 non-null     int64 \n",
      " 4   Address    10 non-null     object\n",
      " 5   pass/fail  10 non-null     object\n",
      " 6   DOB        10 non-null     object\n",
      "dtypes: int64(2), object(5)\n",
      "memory usage: 688.0+ bytes\n"
     ]
    }
   ],
   "source": [
    "df1.info()"
   ]
  },
  {
   "cell_type": "code",
   "execution_count": 6,
   "id": "27b5f799",
   "metadata": {},
   "outputs": [
    {
     "name": "stdout",
     "output_type": "stream",
     "text": [
      "<class 'pandas.core.frame.DataFrame'>\n",
      "RangeIndex: 10 entries, 0 to 9\n",
      "Data columns (total 7 columns):\n",
      " #   Column     Non-Null Count  Dtype         \n",
      "---  ------     --------------  -----         \n",
      " 0   Sid        10 non-null     int64         \n",
      " 1   Name       10 non-null     object        \n",
      " 2   Gender     10 non-null     object        \n",
      " 3   Marks      10 non-null     int64         \n",
      " 4   Address    10 non-null     object        \n",
      " 5   pass/fail  10 non-null     object        \n",
      " 6   DOB        10 non-null     datetime64[ns]\n",
      "dtypes: datetime64[ns](1), int64(2), object(4)\n",
      "memory usage: 688.0+ bytes\n"
     ]
    }
   ],
   "source": [
    "df1[\"DOB\"]=pd.to_datetime(df1[\"DOB\"])\n",
    "df1.info()"
   ]
  },
  {
   "cell_type": "markdown",
   "id": "40787e7a",
   "metadata": {},
   "source": [
    "## 1. Get the names of students with lowest marks."
   ]
  },
  {
   "cell_type": "code",
   "execution_count": 7,
   "id": "7012e26a",
   "metadata": {},
   "outputs": [
    {
     "data": {
      "text/html": [
       "<div>\n",
       "<style scoped>\n",
       "    .dataframe tbody tr th:only-of-type {\n",
       "        vertical-align: middle;\n",
       "    }\n",
       "\n",
       "    .dataframe tbody tr th {\n",
       "        vertical-align: top;\n",
       "    }\n",
       "\n",
       "    .dataframe thead th {\n",
       "        text-align: right;\n",
       "    }\n",
       "</style>\n",
       "<table border=\"1\" class=\"dataframe\">\n",
       "  <thead>\n",
       "    <tr style=\"text-align: right;\">\n",
       "      <th></th>\n",
       "      <th>Name</th>\n",
       "      <th>Marks</th>\n",
       "    </tr>\n",
       "  </thead>\n",
       "  <tbody>\n",
       "    <tr>\n",
       "      <th>5</th>\n",
       "      <td>Rasamalla Tharun</td>\n",
       "      <td>21</td>\n",
       "    </tr>\n",
       "  </tbody>\n",
       "</table>\n",
       "</div>"
      ],
      "text/plain": [
       "               Name  Marks\n",
       "5  Rasamalla Tharun     21"
      ]
     },
     "execution_count": 7,
     "metadata": {},
     "output_type": "execute_result"
    }
   ],
   "source": [
    "df1.loc[df1[\"Marks\"]==df1[\"Marks\"].min(),[\"Name\",\"Marks\"]]"
   ]
  },
  {
   "cell_type": "markdown",
   "id": "77881f74",
   "metadata": {},
   "source": [
    "## 2. Get the name and marks of those students whose scored marks are less than average marks for the entire class.\n"
   ]
  },
  {
   "cell_type": "code",
   "execution_count": 7,
   "id": "e9741459",
   "metadata": {},
   "outputs": [
    {
     "data": {
      "text/html": [
       "<div>\n",
       "<style scoped>\n",
       "    .dataframe tbody tr th:only-of-type {\n",
       "        vertical-align: middle;\n",
       "    }\n",
       "\n",
       "    .dataframe tbody tr th {\n",
       "        vertical-align: top;\n",
       "    }\n",
       "\n",
       "    .dataframe thead th {\n",
       "        text-align: right;\n",
       "    }\n",
       "</style>\n",
       "<table border=\"1\" class=\"dataframe\">\n",
       "  <thead>\n",
       "    <tr style=\"text-align: right;\">\n",
       "      <th></th>\n",
       "      <th>Name</th>\n",
       "      <th>Marks</th>\n",
       "    </tr>\n",
       "  </thead>\n",
       "  <tbody>\n",
       "    <tr>\n",
       "      <th>0</th>\n",
       "      <td>Patwari Raghu</td>\n",
       "      <td>34</td>\n",
       "    </tr>\n",
       "    <tr>\n",
       "      <th>5</th>\n",
       "      <td>Rasamalla Tharun</td>\n",
       "      <td>21</td>\n",
       "    </tr>\n",
       "    <tr>\n",
       "      <th>8</th>\n",
       "      <td>T Veen</td>\n",
       "      <td>31</td>\n",
       "    </tr>\n",
       "  </tbody>\n",
       "</table>\n",
       "</div>"
      ],
      "text/plain": [
       "               Name  Marks\n",
       "0     Patwari Raghu     34\n",
       "5  Rasamalla Tharun     21\n",
       "8            T Veen     31"
      ]
     },
     "execution_count": 7,
     "metadata": {},
     "output_type": "execute_result"
    }
   ],
   "source": [
    "df1.loc[df1[\"Marks\"]<df1[\"Marks\"].mean(),[\"Name\",\"Marks\"]]"
   ]
  },
  {
   "cell_type": "markdown",
   "id": "ac121a9a",
   "metadata": {},
   "source": [
    "## 3. Add a column to extract first name and last name from Name column."
   ]
  },
  {
   "cell_type": "code",
   "execution_count": 9,
   "id": "97445268",
   "metadata": {},
   "outputs": [],
   "source": [
    "last=[]\n",
    "for i in range(len(g)):\n",
    "    for j in range(1,2):\n",
    "        last.append(g[i][j])\n",
    "first=[]\n",
    "for i in range(len(g)):\n",
    "    for j in range(1):\n",
    "        first.append(g[i][j])"
   ]
  },
  {
   "cell_type": "code",
   "execution_count": 10,
   "id": "727b85ce",
   "metadata": {},
   "outputs": [
    {
     "data": {
      "text/html": [
       "<div>\n",
       "<style scoped>\n",
       "    .dataframe tbody tr th:only-of-type {\n",
       "        vertical-align: middle;\n",
       "    }\n",
       "\n",
       "    .dataframe tbody tr th {\n",
       "        vertical-align: top;\n",
       "    }\n",
       "\n",
       "    .dataframe thead th {\n",
       "        text-align: right;\n",
       "    }\n",
       "</style>\n",
       "<table border=\"1\" class=\"dataframe\">\n",
       "  <thead>\n",
       "    <tr style=\"text-align: right;\">\n",
       "      <th></th>\n",
       "      <th>Sid</th>\n",
       "      <th>Name</th>\n",
       "      <th>Gender</th>\n",
       "      <th>Marks</th>\n",
       "      <th>Address</th>\n",
       "      <th>pass/fail</th>\n",
       "      <th>DOB</th>\n",
       "      <th>FirstName</th>\n",
       "      <th>LastName</th>\n",
       "    </tr>\n",
       "  </thead>\n",
       "  <tbody>\n",
       "    <tr>\n",
       "      <th>0</th>\n",
       "      <td>100</td>\n",
       "      <td>Patwari Raghu</td>\n",
       "      <td>M</td>\n",
       "      <td>34</td>\n",
       "      <td>Hyderabad</td>\n",
       "      <td>Fail</td>\n",
       "      <td>2000-08-16</td>\n",
       "      <td>Patwari</td>\n",
       "      <td>Raghu</td>\n",
       "    </tr>\n",
       "    <tr>\n",
       "      <th>1</th>\n",
       "      <td>101</td>\n",
       "      <td>Polisetty Siri</td>\n",
       "      <td>F</td>\n",
       "      <td>85</td>\n",
       "      <td>Cinncinati</td>\n",
       "      <td>Pass</td>\n",
       "      <td>1999-11-11</td>\n",
       "      <td>Polisetty</td>\n",
       "      <td>Siri</td>\n",
       "    </tr>\n",
       "    <tr>\n",
       "      <th>2</th>\n",
       "      <td>102</td>\n",
       "      <td>Thammisetti Charan</td>\n",
       "      <td>M</td>\n",
       "      <td>78</td>\n",
       "      <td>Karimnagar</td>\n",
       "      <td>Pass</td>\n",
       "      <td>1999-11-10</td>\n",
       "      <td>Thammisetti</td>\n",
       "      <td>Charan</td>\n",
       "    </tr>\n",
       "    <tr>\n",
       "      <th>3</th>\n",
       "      <td>103</td>\n",
       "      <td>Ravulapalli Kushal</td>\n",
       "      <td>M</td>\n",
       "      <td>99</td>\n",
       "      <td>Dharmapuri</td>\n",
       "      <td>Pass</td>\n",
       "      <td>1999-09-05</td>\n",
       "      <td>Ravulapalli</td>\n",
       "      <td>Kushal</td>\n",
       "    </tr>\n",
       "    <tr>\n",
       "      <th>4</th>\n",
       "      <td>104</td>\n",
       "      <td>Sreeramdas Tejesvi</td>\n",
       "      <td>F</td>\n",
       "      <td>76</td>\n",
       "      <td>Dallas</td>\n",
       "      <td>Pass</td>\n",
       "      <td>1999-08-18</td>\n",
       "      <td>Sreeramdas</td>\n",
       "      <td>Tejesvi</td>\n",
       "    </tr>\n",
       "    <tr>\n",
       "      <th>5</th>\n",
       "      <td>105</td>\n",
       "      <td>Rasamalla Tharun</td>\n",
       "      <td>M</td>\n",
       "      <td>21</td>\n",
       "      <td>Florida</td>\n",
       "      <td>Fail</td>\n",
       "      <td>1999-09-01</td>\n",
       "      <td>Rasamalla</td>\n",
       "      <td>Tharun</td>\n",
       "    </tr>\n",
       "    <tr>\n",
       "      <th>6</th>\n",
       "      <td>106</td>\n",
       "      <td>Panyala Navy</td>\n",
       "      <td>F</td>\n",
       "      <td>89</td>\n",
       "      <td>Albany</td>\n",
       "      <td>Pass</td>\n",
       "      <td>1999-06-20</td>\n",
       "      <td>Panyala</td>\n",
       "      <td>Navy</td>\n",
       "    </tr>\n",
       "    <tr>\n",
       "      <th>7</th>\n",
       "      <td>107</td>\n",
       "      <td>P Ram</td>\n",
       "      <td>M</td>\n",
       "      <td>66</td>\n",
       "      <td>Hyderabad</td>\n",
       "      <td>Pass</td>\n",
       "      <td>1998-04-12</td>\n",
       "      <td>P</td>\n",
       "      <td>Ram</td>\n",
       "    </tr>\n",
       "    <tr>\n",
       "      <th>8</th>\n",
       "      <td>108</td>\n",
       "      <td>T Veen</td>\n",
       "      <td>F</td>\n",
       "      <td>31</td>\n",
       "      <td>Hyderabad</td>\n",
       "      <td>Fail</td>\n",
       "      <td>1999-06-24</td>\n",
       "      <td>T</td>\n",
       "      <td>Veen</td>\n",
       "    </tr>\n",
       "    <tr>\n",
       "      <th>9</th>\n",
       "      <td>109</td>\n",
       "      <td>Pogu Umesh</td>\n",
       "      <td>M</td>\n",
       "      <td>81</td>\n",
       "      <td>Warangal</td>\n",
       "      <td>Pass</td>\n",
       "      <td>1999-02-01</td>\n",
       "      <td>Pogu</td>\n",
       "      <td>Umesh</td>\n",
       "    </tr>\n",
       "  </tbody>\n",
       "</table>\n",
       "</div>"
      ],
      "text/plain": [
       "   Sid                Name Gender  Marks     Address pass/fail        DOB  \\\n",
       "0  100       Patwari Raghu      M     34   Hyderabad      Fail 2000-08-16   \n",
       "1  101      Polisetty Siri      F     85  Cinncinati      Pass 1999-11-11   \n",
       "2  102  Thammisetti Charan      M     78  Karimnagar      Pass 1999-11-10   \n",
       "3  103  Ravulapalli Kushal      M     99  Dharmapuri      Pass 1999-09-05   \n",
       "4  104  Sreeramdas Tejesvi      F     76      Dallas      Pass 1999-08-18   \n",
       "5  105    Rasamalla Tharun      M     21     Florida      Fail 1999-09-01   \n",
       "6  106        Panyala Navy      F     89      Albany      Pass 1999-06-20   \n",
       "7  107               P Ram      M     66   Hyderabad      Pass 1998-04-12   \n",
       "8  108              T Veen      F     31   Hyderabad      Fail 1999-06-24   \n",
       "9  109          Pogu Umesh      M     81    Warangal      Pass 1999-02-01   \n",
       "\n",
       "     FirstName LastName  \n",
       "0      Patwari    Raghu  \n",
       "1    Polisetty     Siri  \n",
       "2  Thammisetti   Charan  \n",
       "3  Ravulapalli   Kushal  \n",
       "4   Sreeramdas  Tejesvi  \n",
       "5    Rasamalla   Tharun  \n",
       "6      Panyala     Navy  \n",
       "7            P      Ram  \n",
       "8            T     Veen  \n",
       "9         Pogu    Umesh  "
      ]
     },
     "execution_count": 10,
     "metadata": {},
     "output_type": "execute_result"
    }
   ],
   "source": [
    "df1[\"FirstName\"]=first\n",
    "df1[\"LastName\"]=last\n",
    "df1"
   ]
  },
  {
   "cell_type": "markdown",
   "id": "1a6fc7dc",
   "metadata": {},
   "source": [
    "## 4. Get those student names whose names start with the letter 'a'.\n"
   ]
  },
  {
   "cell_type": "code",
   "execution_count": 11,
   "id": "f3d982d1",
   "metadata": {},
   "outputs": [
    {
     "data": {
      "text/html": [
       "<div>\n",
       "<style scoped>\n",
       "    .dataframe tbody tr th:only-of-type {\n",
       "        vertical-align: middle;\n",
       "    }\n",
       "\n",
       "    .dataframe tbody tr th {\n",
       "        vertical-align: top;\n",
       "    }\n",
       "\n",
       "    .dataframe thead th {\n",
       "        text-align: right;\n",
       "    }\n",
       "</style>\n",
       "<table border=\"1\" class=\"dataframe\">\n",
       "  <thead>\n",
       "    <tr style=\"text-align: right;\">\n",
       "      <th></th>\n",
       "      <th>Sid</th>\n",
       "      <th>Name</th>\n",
       "      <th>Gender</th>\n",
       "      <th>Marks</th>\n",
       "      <th>Address</th>\n",
       "      <th>pass/fail</th>\n",
       "      <th>DOB</th>\n",
       "      <th>FirstName</th>\n",
       "      <th>LastName</th>\n",
       "    </tr>\n",
       "  </thead>\n",
       "  <tbody>\n",
       "  </tbody>\n",
       "</table>\n",
       "</div>"
      ],
      "text/plain": [
       "Empty DataFrame\n",
       "Columns: [Sid, Name, Gender, Marks, Address, pass/fail, DOB, FirstName, LastName]\n",
       "Index: []"
      ]
     },
     "execution_count": 11,
     "metadata": {},
     "output_type": "execute_result"
    }
   ],
   "source": [
    "df1.loc[df1[\"Name\"].str.startswith(\"a\")]"
   ]
  },
  {
   "cell_type": "code",
   "execution_count": 12,
   "id": "8c4639a1",
   "metadata": {},
   "outputs": [
    {
     "data": {
      "text/html": [
       "<div>\n",
       "<style scoped>\n",
       "    .dataframe tbody tr th:only-of-type {\n",
       "        vertical-align: middle;\n",
       "    }\n",
       "\n",
       "    .dataframe tbody tr th {\n",
       "        vertical-align: top;\n",
       "    }\n",
       "\n",
       "    .dataframe thead th {\n",
       "        text-align: right;\n",
       "    }\n",
       "</style>\n",
       "<table border=\"1\" class=\"dataframe\">\n",
       "  <thead>\n",
       "    <tr style=\"text-align: right;\">\n",
       "      <th></th>\n",
       "      <th>Sid</th>\n",
       "      <th>Name</th>\n",
       "      <th>Gender</th>\n",
       "      <th>Marks</th>\n",
       "      <th>Address</th>\n",
       "      <th>pass/fail</th>\n",
       "      <th>DOB</th>\n",
       "      <th>FirstName</th>\n",
       "      <th>LastName</th>\n",
       "    </tr>\n",
       "  </thead>\n",
       "  <tbody>\n",
       "    <tr>\n",
       "      <th>0</th>\n",
       "      <td>100</td>\n",
       "      <td>Patwari Raghu</td>\n",
       "      <td>M</td>\n",
       "      <td>34</td>\n",
       "      <td>Hyderabad</td>\n",
       "      <td>Fail</td>\n",
       "      <td>2000-08-16</td>\n",
       "      <td>Patwari</td>\n",
       "      <td>Raghu</td>\n",
       "    </tr>\n",
       "    <tr>\n",
       "      <th>1</th>\n",
       "      <td>101</td>\n",
       "      <td>Polisetty Siri</td>\n",
       "      <td>F</td>\n",
       "      <td>85</td>\n",
       "      <td>Cinncinati</td>\n",
       "      <td>Pass</td>\n",
       "      <td>1999-11-11</td>\n",
       "      <td>Polisetty</td>\n",
       "      <td>Siri</td>\n",
       "    </tr>\n",
       "    <tr>\n",
       "      <th>6</th>\n",
       "      <td>106</td>\n",
       "      <td>Panyala Navy</td>\n",
       "      <td>F</td>\n",
       "      <td>89</td>\n",
       "      <td>Albany</td>\n",
       "      <td>Pass</td>\n",
       "      <td>1999-06-20</td>\n",
       "      <td>Panyala</td>\n",
       "      <td>Navy</td>\n",
       "    </tr>\n",
       "    <tr>\n",
       "      <th>7</th>\n",
       "      <td>107</td>\n",
       "      <td>P Ram</td>\n",
       "      <td>M</td>\n",
       "      <td>66</td>\n",
       "      <td>Hyderabad</td>\n",
       "      <td>Pass</td>\n",
       "      <td>1998-04-12</td>\n",
       "      <td>P</td>\n",
       "      <td>Ram</td>\n",
       "    </tr>\n",
       "    <tr>\n",
       "      <th>9</th>\n",
       "      <td>109</td>\n",
       "      <td>Pogu Umesh</td>\n",
       "      <td>M</td>\n",
       "      <td>81</td>\n",
       "      <td>Warangal</td>\n",
       "      <td>Pass</td>\n",
       "      <td>1999-02-01</td>\n",
       "      <td>Pogu</td>\n",
       "      <td>Umesh</td>\n",
       "    </tr>\n",
       "  </tbody>\n",
       "</table>\n",
       "</div>"
      ],
      "text/plain": [
       "   Sid            Name Gender  Marks     Address pass/fail        DOB  \\\n",
       "0  100   Patwari Raghu      M     34   Hyderabad      Fail 2000-08-16   \n",
       "1  101  Polisetty Siri      F     85  Cinncinati      Pass 1999-11-11   \n",
       "6  106    Panyala Navy      F     89      Albany      Pass 1999-06-20   \n",
       "7  107           P Ram      M     66   Hyderabad      Pass 1998-04-12   \n",
       "9  109      Pogu Umesh      M     81    Warangal      Pass 1999-02-01   \n",
       "\n",
       "   FirstName LastName  \n",
       "0    Patwari    Raghu  \n",
       "1  Polisetty     Siri  \n",
       "6    Panyala     Navy  \n",
       "7          P      Ram  \n",
       "9       Pogu    Umesh  "
      ]
     },
     "execution_count": 12,
     "metadata": {},
     "output_type": "execute_result"
    }
   ],
   "source": [
    "df1.loc[df1[\"Name\"].str.startswith(\"P\")]"
   ]
  },
  {
   "cell_type": "markdown",
   "id": "a9cc7757",
   "metadata": {},
   "source": [
    "## 5. Get highest marks separately for male and female group.\n"
   ]
  },
  {
   "cell_type": "code",
   "execution_count": 13,
   "id": "538ffa11",
   "metadata": {},
   "outputs": [
    {
     "data": {
      "text/html": [
       "<div>\n",
       "<style scoped>\n",
       "    .dataframe tbody tr th:only-of-type {\n",
       "        vertical-align: middle;\n",
       "    }\n",
       "\n",
       "    .dataframe tbody tr th {\n",
       "        vertical-align: top;\n",
       "    }\n",
       "\n",
       "    .dataframe thead th {\n",
       "        text-align: right;\n",
       "    }\n",
       "</style>\n",
       "<table border=\"1\" class=\"dataframe\">\n",
       "  <thead>\n",
       "    <tr style=\"text-align: right;\">\n",
       "      <th></th>\n",
       "      <th>Marks</th>\n",
       "    </tr>\n",
       "    <tr>\n",
       "      <th>Gender</th>\n",
       "      <th></th>\n",
       "    </tr>\n",
       "  </thead>\n",
       "  <tbody>\n",
       "    <tr>\n",
       "      <th>F</th>\n",
       "      <td>89</td>\n",
       "    </tr>\n",
       "    <tr>\n",
       "      <th>M</th>\n",
       "      <td>99</td>\n",
       "    </tr>\n",
       "  </tbody>\n",
       "</table>\n",
       "</div>"
      ],
      "text/plain": [
       "        Marks\n",
       "Gender       \n",
       "F          89\n",
       "M          99"
      ]
     },
     "execution_count": 13,
     "metadata": {},
     "output_type": "execute_result"
    }
   ],
   "source": [
    "df1.groupby(\"Gender\")[[\"Marks\"]].max()"
   ]
  },
  {
   "cell_type": "markdown",
   "id": "87cd3ebd",
   "metadata": {},
   "source": [
    "## 6.The people who have passed are more in male or female group.\n"
   ]
  },
  {
   "cell_type": "code",
   "execution_count": 14,
   "id": "e5dfa0af",
   "metadata": {},
   "outputs": [],
   "source": [
    "g=df1.groupby(\"Gender\")"
   ]
  },
  {
   "cell_type": "code",
   "execution_count": 15,
   "id": "9c0e7b1e",
   "metadata": {},
   "outputs": [
    {
     "data": {
      "text/html": [
       "<div>\n",
       "<style scoped>\n",
       "    .dataframe tbody tr th:only-of-type {\n",
       "        vertical-align: middle;\n",
       "    }\n",
       "\n",
       "    .dataframe tbody tr th {\n",
       "        vertical-align: top;\n",
       "    }\n",
       "\n",
       "    .dataframe thead th {\n",
       "        text-align: right;\n",
       "    }\n",
       "</style>\n",
       "<table border=\"1\" class=\"dataframe\">\n",
       "  <thead>\n",
       "    <tr style=\"text-align: right;\">\n",
       "      <th></th>\n",
       "      <th>Sid</th>\n",
       "      <th>Name</th>\n",
       "      <th>Gender</th>\n",
       "      <th>Marks</th>\n",
       "      <th>Address</th>\n",
       "      <th>pass/fail</th>\n",
       "      <th>DOB</th>\n",
       "      <th>FirstName</th>\n",
       "      <th>LastName</th>\n",
       "    </tr>\n",
       "  </thead>\n",
       "  <tbody>\n",
       "    <tr>\n",
       "      <th>2</th>\n",
       "      <td>102</td>\n",
       "      <td>Thammisetti Charan</td>\n",
       "      <td>M</td>\n",
       "      <td>78</td>\n",
       "      <td>Karimnagar</td>\n",
       "      <td>Pass</td>\n",
       "      <td>1999-11-10</td>\n",
       "      <td>Thammisetti</td>\n",
       "      <td>Charan</td>\n",
       "    </tr>\n",
       "    <tr>\n",
       "      <th>3</th>\n",
       "      <td>103</td>\n",
       "      <td>Ravulapalli Kushal</td>\n",
       "      <td>M</td>\n",
       "      <td>99</td>\n",
       "      <td>Dharmapuri</td>\n",
       "      <td>Pass</td>\n",
       "      <td>1999-09-05</td>\n",
       "      <td>Ravulapalli</td>\n",
       "      <td>Kushal</td>\n",
       "    </tr>\n",
       "    <tr>\n",
       "      <th>7</th>\n",
       "      <td>107</td>\n",
       "      <td>P Ram</td>\n",
       "      <td>M</td>\n",
       "      <td>66</td>\n",
       "      <td>Hyderabad</td>\n",
       "      <td>Pass</td>\n",
       "      <td>1998-04-12</td>\n",
       "      <td>P</td>\n",
       "      <td>Ram</td>\n",
       "    </tr>\n",
       "    <tr>\n",
       "      <th>9</th>\n",
       "      <td>109</td>\n",
       "      <td>Pogu Umesh</td>\n",
       "      <td>M</td>\n",
       "      <td>81</td>\n",
       "      <td>Warangal</td>\n",
       "      <td>Pass</td>\n",
       "      <td>1999-02-01</td>\n",
       "      <td>Pogu</td>\n",
       "      <td>Umesh</td>\n",
       "    </tr>\n",
       "  </tbody>\n",
       "</table>\n",
       "</div>"
      ],
      "text/plain": [
       "   Sid                Name Gender  Marks     Address pass/fail        DOB  \\\n",
       "2  102  Thammisetti Charan      M     78  Karimnagar      Pass 1999-11-10   \n",
       "3  103  Ravulapalli Kushal      M     99  Dharmapuri      Pass 1999-09-05   \n",
       "7  107               P Ram      M     66   Hyderabad      Pass 1998-04-12   \n",
       "9  109          Pogu Umesh      M     81    Warangal      Pass 1999-02-01   \n",
       "\n",
       "     FirstName LastName  \n",
       "2  Thammisetti   Charan  \n",
       "3  Ravulapalli   Kushal  \n",
       "7            P      Ram  \n",
       "9         Pogu    Umesh  "
      ]
     },
     "execution_count": 15,
     "metadata": {},
     "output_type": "execute_result"
    }
   ],
   "source": [
    "g.get_group(\"M\").loc[g.get_group(\"M\")[\"pass/fail\"]==\"Pass\"]"
   ]
  },
  {
   "cell_type": "code",
   "execution_count": 16,
   "id": "9501ca90",
   "metadata": {},
   "outputs": [
    {
     "data": {
      "text/html": [
       "<div>\n",
       "<style scoped>\n",
       "    .dataframe tbody tr th:only-of-type {\n",
       "        vertical-align: middle;\n",
       "    }\n",
       "\n",
       "    .dataframe tbody tr th {\n",
       "        vertical-align: top;\n",
       "    }\n",
       "\n",
       "    .dataframe thead th {\n",
       "        text-align: right;\n",
       "    }\n",
       "</style>\n",
       "<table border=\"1\" class=\"dataframe\">\n",
       "  <thead>\n",
       "    <tr style=\"text-align: right;\">\n",
       "      <th></th>\n",
       "      <th>Name</th>\n",
       "      <th>pass/fail</th>\n",
       "    </tr>\n",
       "  </thead>\n",
       "  <tbody>\n",
       "    <tr>\n",
       "      <th>2</th>\n",
       "      <td>Thammisetti Charan</td>\n",
       "      <td>Pass</td>\n",
       "    </tr>\n",
       "    <tr>\n",
       "      <th>3</th>\n",
       "      <td>Ravulapalli Kushal</td>\n",
       "      <td>Pass</td>\n",
       "    </tr>\n",
       "    <tr>\n",
       "      <th>7</th>\n",
       "      <td>P Ram</td>\n",
       "      <td>Pass</td>\n",
       "    </tr>\n",
       "    <tr>\n",
       "      <th>9</th>\n",
       "      <td>Pogu Umesh</td>\n",
       "      <td>Pass</td>\n",
       "    </tr>\n",
       "  </tbody>\n",
       "</table>\n",
       "</div>"
      ],
      "text/plain": [
       "                 Name pass/fail\n",
       "2  Thammisetti Charan      Pass\n",
       "3  Ravulapalli Kushal      Pass\n",
       "7               P Ram      Pass\n",
       "9          Pogu Umesh      Pass"
      ]
     },
     "execution_count": 16,
     "metadata": {},
     "output_type": "execute_result"
    }
   ],
   "source": [
    "g.get_group(\"M\").loc[g.get_group(\"M\")[\"pass/fail\"]==\"Pass\",[\"Name\",\"pass/fail\"]]"
   ]
  },
  {
   "cell_type": "code",
   "execution_count": 17,
   "id": "a42d6791",
   "metadata": {},
   "outputs": [
    {
     "data": {
      "text/plain": [
       "Name         4\n",
       "pass/fail    4\n",
       "dtype: int64"
      ]
     },
     "execution_count": 17,
     "metadata": {},
     "output_type": "execute_result"
    }
   ],
   "source": [
    "g.get_group(\"M\").loc[g.get_group(\"M\")[\"pass/fail\"]==\"Pass\",[\"Name\",\"pass/fail\"]].count()"
   ]
  },
  {
   "cell_type": "code",
   "execution_count": 18,
   "id": "7b62f5b6",
   "metadata": {},
   "outputs": [
    {
     "data": {
      "text/html": [
       "<div>\n",
       "<style scoped>\n",
       "    .dataframe tbody tr th:only-of-type {\n",
       "        vertical-align: middle;\n",
       "    }\n",
       "\n",
       "    .dataframe tbody tr th {\n",
       "        vertical-align: top;\n",
       "    }\n",
       "\n",
       "    .dataframe thead th {\n",
       "        text-align: right;\n",
       "    }\n",
       "</style>\n",
       "<table border=\"1\" class=\"dataframe\">\n",
       "  <thead>\n",
       "    <tr style=\"text-align: right;\">\n",
       "      <th></th>\n",
       "      <th>Name</th>\n",
       "      <th>pass/fail</th>\n",
       "    </tr>\n",
       "  </thead>\n",
       "  <tbody>\n",
       "    <tr>\n",
       "      <th>1</th>\n",
       "      <td>Polisetty Siri</td>\n",
       "      <td>Pass</td>\n",
       "    </tr>\n",
       "    <tr>\n",
       "      <th>4</th>\n",
       "      <td>Sreeramdas Tejesvi</td>\n",
       "      <td>Pass</td>\n",
       "    </tr>\n",
       "    <tr>\n",
       "      <th>6</th>\n",
       "      <td>Panyala Navy</td>\n",
       "      <td>Pass</td>\n",
       "    </tr>\n",
       "  </tbody>\n",
       "</table>\n",
       "</div>"
      ],
      "text/plain": [
       "                 Name pass/fail\n",
       "1      Polisetty Siri      Pass\n",
       "4  Sreeramdas Tejesvi      Pass\n",
       "6        Panyala Navy      Pass"
      ]
     },
     "execution_count": 18,
     "metadata": {},
     "output_type": "execute_result"
    }
   ],
   "source": [
    "g.get_group(\"F\").loc[g.get_group(\"F\")[\"pass/fail\"]==\"Pass\",[\"Name\",\"pass/fail\"]]"
   ]
  },
  {
   "cell_type": "code",
   "execution_count": 19,
   "id": "8e8917ce",
   "metadata": {},
   "outputs": [
    {
     "data": {
      "text/plain": [
       "Name         3\n",
       "pass/fail    3\n",
       "dtype: int64"
      ]
     },
     "execution_count": 19,
     "metadata": {},
     "output_type": "execute_result"
    }
   ],
   "source": [
    "g.get_group(\"F\").loc[g.get_group(\"F\")[\"pass/fail\"]==\"Pass\",[\"Name\",\"pass/fail\"]].count()"
   ]
  },
  {
   "cell_type": "markdown",
   "id": "81bd6b34",
   "metadata": {},
   "source": [
    "## Insights:\n",
    "- There are more Male students who has passed compared to female"
   ]
  },
  {
   "cell_type": "markdown",
   "id": "2db42ea4",
   "metadata": {},
   "source": [
    "## 7. Get highest marks separately for male and female group and the names of people who have scored those high marks in the respective groups.\n"
   ]
  },
  {
   "cell_type": "code",
   "execution_count": 43,
   "id": "54eda5bd",
   "metadata": {},
   "outputs": [
    {
     "data": {
      "text/html": [
       "<div>\n",
       "<style scoped>\n",
       "    .dataframe tbody tr th:only-of-type {\n",
       "        vertical-align: middle;\n",
       "    }\n",
       "\n",
       "    .dataframe tbody tr th {\n",
       "        vertical-align: top;\n",
       "    }\n",
       "\n",
       "    .dataframe thead th {\n",
       "        text-align: right;\n",
       "    }\n",
       "</style>\n",
       "<table border=\"1\" class=\"dataframe\">\n",
       "  <thead>\n",
       "    <tr style=\"text-align: right;\">\n",
       "      <th></th>\n",
       "      <th>Name</th>\n",
       "      <th>Gender</th>\n",
       "      <th>Marks</th>\n",
       "    </tr>\n",
       "  </thead>\n",
       "  <tbody>\n",
       "    <tr>\n",
       "      <th>6</th>\n",
       "      <td>Panyala Navy</td>\n",
       "      <td>F</td>\n",
       "      <td>89</td>\n",
       "    </tr>\n",
       "    <tr>\n",
       "      <th>3</th>\n",
       "      <td>Ravulapalli Kushal</td>\n",
       "      <td>M</td>\n",
       "      <td>99</td>\n",
       "    </tr>\n",
       "  </tbody>\n",
       "</table>\n",
       "</div>"
      ],
      "text/plain": [
       "                 Name Gender  Marks\n",
       "6        Panyala Navy      F     89\n",
       "3  Ravulapalli Kushal      M     99"
      ]
     },
     "execution_count": 43,
     "metadata": {},
     "output_type": "execute_result"
    }
   ],
   "source": [
    "g=df1.groupby(\"Gender\")[\"Marks\"].idxmax()\n",
    "df1.loc[g,[\"Name\",\"Gender\",\"Marks\"]]"
   ]
  },
  {
   "cell_type": "markdown",
   "id": "d2e6fd5a",
   "metadata": {},
   "source": [
    "## 8. For the different genders only filter those records whore passing is more."
   ]
  },
  {
   "cell_type": "code",
   "execution_count": 21,
   "id": "55e728ad",
   "metadata": {},
   "outputs": [
    {
     "data": {
      "text/html": [
       "<div>\n",
       "<style scoped>\n",
       "    .dataframe tbody tr th:only-of-type {\n",
       "        vertical-align: middle;\n",
       "    }\n",
       "\n",
       "    .dataframe tbody tr th {\n",
       "        vertical-align: top;\n",
       "    }\n",
       "\n",
       "    .dataframe thead th {\n",
       "        text-align: right;\n",
       "    }\n",
       "</style>\n",
       "<table border=\"1\" class=\"dataframe\">\n",
       "  <thead>\n",
       "    <tr style=\"text-align: right;\">\n",
       "      <th></th>\n",
       "      <th>Name</th>\n",
       "      <th>pass/fail</th>\n",
       "    </tr>\n",
       "  </thead>\n",
       "  <tbody>\n",
       "    <tr>\n",
       "      <th>2</th>\n",
       "      <td>Thammisetti Charan</td>\n",
       "      <td>Pass</td>\n",
       "    </tr>\n",
       "    <tr>\n",
       "      <th>3</th>\n",
       "      <td>Ravulapalli Kushal</td>\n",
       "      <td>Pass</td>\n",
       "    </tr>\n",
       "    <tr>\n",
       "      <th>7</th>\n",
       "      <td>P Ram</td>\n",
       "      <td>Pass</td>\n",
       "    </tr>\n",
       "    <tr>\n",
       "      <th>9</th>\n",
       "      <td>Pogu Umesh</td>\n",
       "      <td>Pass</td>\n",
       "    </tr>\n",
       "  </tbody>\n",
       "</table>\n",
       "</div>"
      ],
      "text/plain": [
       "                 Name pass/fail\n",
       "2  Thammisetti Charan      Pass\n",
       "3  Ravulapalli Kushal      Pass\n",
       "7               P Ram      Pass\n",
       "9          Pogu Umesh      Pass"
      ]
     },
     "execution_count": 21,
     "metadata": {},
     "output_type": "execute_result"
    }
   ],
   "source": [
    "g1=df1.groupby(\"Gender\")\n",
    "g1.get_group(\"M\").loc[g1.get_group(\"M\")[\"Marks\"]>35,[\"Name\",\"pass/fail\"]]"
   ]
  },
  {
   "cell_type": "code",
   "execution_count": 22,
   "id": "20c3244f",
   "metadata": {},
   "outputs": [
    {
     "data": {
      "text/html": [
       "<div>\n",
       "<style scoped>\n",
       "    .dataframe tbody tr th:only-of-type {\n",
       "        vertical-align: middle;\n",
       "    }\n",
       "\n",
       "    .dataframe tbody tr th {\n",
       "        vertical-align: top;\n",
       "    }\n",
       "\n",
       "    .dataframe thead th {\n",
       "        text-align: right;\n",
       "    }\n",
       "</style>\n",
       "<table border=\"1\" class=\"dataframe\">\n",
       "  <thead>\n",
       "    <tr style=\"text-align: right;\">\n",
       "      <th></th>\n",
       "      <th>Name</th>\n",
       "      <th>pass/fail</th>\n",
       "    </tr>\n",
       "  </thead>\n",
       "  <tbody>\n",
       "    <tr>\n",
       "      <th>1</th>\n",
       "      <td>Polisetty Siri</td>\n",
       "      <td>Pass</td>\n",
       "    </tr>\n",
       "    <tr>\n",
       "      <th>4</th>\n",
       "      <td>Sreeramdas Tejesvi</td>\n",
       "      <td>Pass</td>\n",
       "    </tr>\n",
       "    <tr>\n",
       "      <th>6</th>\n",
       "      <td>Panyala Navy</td>\n",
       "      <td>Pass</td>\n",
       "    </tr>\n",
       "  </tbody>\n",
       "</table>\n",
       "</div>"
      ],
      "text/plain": [
       "                 Name pass/fail\n",
       "1      Polisetty Siri      Pass\n",
       "4  Sreeramdas Tejesvi      Pass\n",
       "6        Panyala Navy      Pass"
      ]
     },
     "execution_count": 22,
     "metadata": {},
     "output_type": "execute_result"
    }
   ],
   "source": [
    "g1.get_group(\"F\").loc[g1.get_group(\"F\")[\"Marks\"]>35,[\"Name\",\"pass/fail\"]]"
   ]
  },
  {
   "cell_type": "markdown",
   "id": "69c67472",
   "metadata": {},
   "source": [
    "## 9. Calculate the ages using the DOB column.\n"
   ]
  },
  {
   "cell_type": "code",
   "execution_count": 23,
   "id": "49a0ff77",
   "metadata": {},
   "outputs": [
    {
     "data": {
      "text/html": [
       "<div>\n",
       "<style scoped>\n",
       "    .dataframe tbody tr th:only-of-type {\n",
       "        vertical-align: middle;\n",
       "    }\n",
       "\n",
       "    .dataframe tbody tr th {\n",
       "        vertical-align: top;\n",
       "    }\n",
       "\n",
       "    .dataframe thead th {\n",
       "        text-align: right;\n",
       "    }\n",
       "</style>\n",
       "<table border=\"1\" class=\"dataframe\">\n",
       "  <thead>\n",
       "    <tr style=\"text-align: right;\">\n",
       "      <th></th>\n",
       "      <th>Sid</th>\n",
       "      <th>Name</th>\n",
       "      <th>Gender</th>\n",
       "      <th>Marks</th>\n",
       "      <th>Address</th>\n",
       "      <th>pass/fail</th>\n",
       "      <th>DOB</th>\n",
       "      <th>FirstName</th>\n",
       "      <th>LastName</th>\n",
       "      <th>Age</th>\n",
       "    </tr>\n",
       "  </thead>\n",
       "  <tbody>\n",
       "    <tr>\n",
       "      <th>0</th>\n",
       "      <td>100</td>\n",
       "      <td>Patwari Raghu</td>\n",
       "      <td>M</td>\n",
       "      <td>34</td>\n",
       "      <td>Hyderabad</td>\n",
       "      <td>Fail</td>\n",
       "      <td>2000-08-16</td>\n",
       "      <td>Patwari</td>\n",
       "      <td>Raghu</td>\n",
       "      <td>24</td>\n",
       "    </tr>\n",
       "    <tr>\n",
       "      <th>1</th>\n",
       "      <td>101</td>\n",
       "      <td>Polisetty Siri</td>\n",
       "      <td>F</td>\n",
       "      <td>85</td>\n",
       "      <td>Cinncinati</td>\n",
       "      <td>Pass</td>\n",
       "      <td>1999-11-11</td>\n",
       "      <td>Polisetty</td>\n",
       "      <td>Siri</td>\n",
       "      <td>25</td>\n",
       "    </tr>\n",
       "    <tr>\n",
       "      <th>2</th>\n",
       "      <td>102</td>\n",
       "      <td>Thammisetti Charan</td>\n",
       "      <td>M</td>\n",
       "      <td>78</td>\n",
       "      <td>Karimnagar</td>\n",
       "      <td>Pass</td>\n",
       "      <td>1999-11-10</td>\n",
       "      <td>Thammisetti</td>\n",
       "      <td>Charan</td>\n",
       "      <td>25</td>\n",
       "    </tr>\n",
       "    <tr>\n",
       "      <th>3</th>\n",
       "      <td>103</td>\n",
       "      <td>Ravulapalli Kushal</td>\n",
       "      <td>M</td>\n",
       "      <td>99</td>\n",
       "      <td>Dharmapuri</td>\n",
       "      <td>Pass</td>\n",
       "      <td>1999-09-05</td>\n",
       "      <td>Ravulapalli</td>\n",
       "      <td>Kushal</td>\n",
       "      <td>25</td>\n",
       "    </tr>\n",
       "    <tr>\n",
       "      <th>4</th>\n",
       "      <td>104</td>\n",
       "      <td>Sreeramdas Tejesvi</td>\n",
       "      <td>F</td>\n",
       "      <td>76</td>\n",
       "      <td>Dallas</td>\n",
       "      <td>Pass</td>\n",
       "      <td>1999-08-18</td>\n",
       "      <td>Sreeramdas</td>\n",
       "      <td>Tejesvi</td>\n",
       "      <td>25</td>\n",
       "    </tr>\n",
       "    <tr>\n",
       "      <th>5</th>\n",
       "      <td>105</td>\n",
       "      <td>Rasamalla Tharun</td>\n",
       "      <td>M</td>\n",
       "      <td>21</td>\n",
       "      <td>Florida</td>\n",
       "      <td>Fail</td>\n",
       "      <td>1999-09-01</td>\n",
       "      <td>Rasamalla</td>\n",
       "      <td>Tharun</td>\n",
       "      <td>25</td>\n",
       "    </tr>\n",
       "    <tr>\n",
       "      <th>6</th>\n",
       "      <td>106</td>\n",
       "      <td>Panyala Navy</td>\n",
       "      <td>F</td>\n",
       "      <td>89</td>\n",
       "      <td>Albany</td>\n",
       "      <td>Pass</td>\n",
       "      <td>1999-06-20</td>\n",
       "      <td>Panyala</td>\n",
       "      <td>Navy</td>\n",
       "      <td>25</td>\n",
       "    </tr>\n",
       "    <tr>\n",
       "      <th>7</th>\n",
       "      <td>107</td>\n",
       "      <td>P Ram</td>\n",
       "      <td>M</td>\n",
       "      <td>66</td>\n",
       "      <td>Hyderabad</td>\n",
       "      <td>Pass</td>\n",
       "      <td>1998-04-12</td>\n",
       "      <td>P</td>\n",
       "      <td>Ram</td>\n",
       "      <td>26</td>\n",
       "    </tr>\n",
       "    <tr>\n",
       "      <th>8</th>\n",
       "      <td>108</td>\n",
       "      <td>T Veen</td>\n",
       "      <td>F</td>\n",
       "      <td>31</td>\n",
       "      <td>Hyderabad</td>\n",
       "      <td>Fail</td>\n",
       "      <td>1999-06-24</td>\n",
       "      <td>T</td>\n",
       "      <td>Veen</td>\n",
       "      <td>25</td>\n",
       "    </tr>\n",
       "    <tr>\n",
       "      <th>9</th>\n",
       "      <td>109</td>\n",
       "      <td>Pogu Umesh</td>\n",
       "      <td>M</td>\n",
       "      <td>81</td>\n",
       "      <td>Warangal</td>\n",
       "      <td>Pass</td>\n",
       "      <td>1999-02-01</td>\n",
       "      <td>Pogu</td>\n",
       "      <td>Umesh</td>\n",
       "      <td>25</td>\n",
       "    </tr>\n",
       "  </tbody>\n",
       "</table>\n",
       "</div>"
      ],
      "text/plain": [
       "   Sid                Name Gender  Marks     Address pass/fail        DOB  \\\n",
       "0  100       Patwari Raghu      M     34   Hyderabad      Fail 2000-08-16   \n",
       "1  101      Polisetty Siri      F     85  Cinncinati      Pass 1999-11-11   \n",
       "2  102  Thammisetti Charan      M     78  Karimnagar      Pass 1999-11-10   \n",
       "3  103  Ravulapalli Kushal      M     99  Dharmapuri      Pass 1999-09-05   \n",
       "4  104  Sreeramdas Tejesvi      F     76      Dallas      Pass 1999-08-18   \n",
       "5  105    Rasamalla Tharun      M     21     Florida      Fail 1999-09-01   \n",
       "6  106        Panyala Navy      F     89      Albany      Pass 1999-06-20   \n",
       "7  107               P Ram      M     66   Hyderabad      Pass 1998-04-12   \n",
       "8  108              T Veen      F     31   Hyderabad      Fail 1999-06-24   \n",
       "9  109          Pogu Umesh      M     81    Warangal      Pass 1999-02-01   \n",
       "\n",
       "     FirstName LastName  Age  \n",
       "0      Patwari    Raghu   24  \n",
       "1    Polisetty     Siri   25  \n",
       "2  Thammisetti   Charan   25  \n",
       "3  Ravulapalli   Kushal   25  \n",
       "4   Sreeramdas  Tejesvi   25  \n",
       "5    Rasamalla   Tharun   25  \n",
       "6      Panyala     Navy   25  \n",
       "7            P      Ram   26  \n",
       "8            T     Veen   25  \n",
       "9         Pogu    Umesh   25  "
      ]
     },
     "execution_count": 23,
     "metadata": {},
     "output_type": "execute_result"
    }
   ],
   "source": [
    "df1[\"Age\"]=pd.to_datetime(\"today\").year-df1[\"DOB\"].dt.year\n",
    "df1"
   ]
  },
  {
   "cell_type": "markdown",
   "id": "4341b38b",
   "metadata": {},
   "source": [
    "## 10. Get the students age.  mean, median, standard deviation, variance."
   ]
  },
  {
   "cell_type": "code",
   "execution_count": 24,
   "id": "7e40d2a3",
   "metadata": {},
   "outputs": [
    {
     "data": {
      "text/plain": [
       "count    10.000000\n",
       "mean     25.000000\n",
       "std       0.471405\n",
       "min      24.000000\n",
       "25%      25.000000\n",
       "50%      25.000000\n",
       "75%      25.000000\n",
       "max      26.000000\n",
       "Name: Age, dtype: float64"
      ]
     },
     "execution_count": 24,
     "metadata": {},
     "output_type": "execute_result"
    }
   ],
   "source": [
    "df1[\"Age\"].describe()"
   ]
  },
  {
   "cell_type": "code",
   "execution_count": 25,
   "id": "f18a9c74",
   "metadata": {},
   "outputs": [
    {
     "data": {
      "text/plain": [
       "25.0"
      ]
     },
     "execution_count": 25,
     "metadata": {},
     "output_type": "execute_result"
    }
   ],
   "source": [
    "df1[\"Age\"].mean()"
   ]
  },
  {
   "cell_type": "code",
   "execution_count": 26,
   "id": "c90dbac3",
   "metadata": {},
   "outputs": [
    {
     "data": {
      "text/plain": [
       "25.0"
      ]
     },
     "execution_count": 26,
     "metadata": {},
     "output_type": "execute_result"
    }
   ],
   "source": [
    "df1[\"Age\"].median()"
   ]
  },
  {
   "cell_type": "code",
   "execution_count": 27,
   "id": "689a21dc",
   "metadata": {},
   "outputs": [
    {
     "data": {
      "text/plain": [
       "0.2222222222222222"
      ]
     },
     "execution_count": 27,
     "metadata": {},
     "output_type": "execute_result"
    }
   ],
   "source": [
    "df1[\"Age\"].var()"
   ]
  },
  {
   "cell_type": "code",
   "execution_count": 46,
   "id": "e7c90525",
   "metadata": {},
   "outputs": [
    {
     "data": {
      "text/plain": [
       "0.4714045207910317"
      ]
     },
     "execution_count": 46,
     "metadata": {},
     "output_type": "execute_result"
    }
   ],
   "source": [
    "df1[\"Age\"].std()"
   ]
  }
 ],
 "metadata": {
  "kernelspec": {
   "display_name": "Python 3 (ipykernel)",
   "language": "python",
   "name": "python3"
  },
  "language_info": {
   "codemirror_mode": {
    "name": "ipython",
    "version": 3
   },
   "file_extension": ".py",
   "mimetype": "text/x-python",
   "name": "python",
   "nbconvert_exporter": "python",
   "pygments_lexer": "ipython3",
   "version": "3.9.13"
  }
 },
 "nbformat": 4,
 "nbformat_minor": 5
}
